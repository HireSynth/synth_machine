{
 "cells": [
  {
   "cell_type": "code",
   "execution_count": 1,
   "id": "ca12514c-9690-4a3c-b9d3-03fba4408273",
   "metadata": {},
   "outputs": [],
   "source": [
    "from synth_machine import Synth"
   ]
  },
  {
   "cell_type": "code",
   "execution_count": 3,
   "id": "0086c35b-36b3-4251-82a4-e3e343876a57",
   "metadata": {},
   "outputs": [],
   "source": [
    "spec = {\n",
    "    \"states\": [\n",
    "        {\"name\": \"a\"},\n",
    "        {\"name\": \"b\"}\n",
    "    ],\n",
    "    \"initial_state\": \"a\",\n",
    "    \"transitions\": [\n",
    "        {\n",
    "            \"source\": \"a\",\n",
    "            \"dest\": \"b\",\n",
    "            \"trigger\": \"run\"\n",
    "        }\n",
    "    ]\n",
    "}"
   ]
  },
  {
   "cell_type": "code",
   "execution_count": 4,
   "id": "b12fae0f-68a6-4e4d-8cd5-e1f3d69fb053",
   "metadata": {},
   "outputs": [],
   "source": [
    "agent = Synth(spec)"
   ]
  },
  {
   "cell_type": "code",
   "execution_count": 5,
   "id": "4bfc28e7-315d-43ad-8574-e6091869782c",
   "metadata": {},
   "outputs": [
    {
     "data": {
      "text/plain": [
       "{}"
      ]
     },
     "execution_count": 5,
     "metadata": {},
     "output_type": "execute_result"
    }
   ],
   "source": [
    "await agent.trigger(\"run\")"
   ]
  },
  {
   "cell_type": "code",
   "execution_count": 8,
   "id": "087a5082-5254-4360-9da6-6fa4953ffc9f",
   "metadata": {},
   "outputs": [
    {
     "data": {
      "text/plain": [
       "'b'"
      ]
     },
     "execution_count": 8,
     "metadata": {},
     "output_type": "execute_result"
    }
   ],
   "source": [
    "agent.current_state()"
   ]
  },
  {
   "cell_type": "code",
   "execution_count": 9,
   "id": "a31ef8e8-0526-4e57-aa84-10403e39ee82",
   "metadata": {},
   "outputs": [
    {
     "ename": "AttributeError",
     "evalue": "'Synth' object has no attribute 'providers'",
     "output_type": "error",
     "traceback": [
      "\u001b[0;31m---------------------------------------------------------------------------\u001b[0m",
      "\u001b[0;31mAttributeError\u001b[0m                            Traceback (most recent call last)",
      "Cell \u001b[0;32mIn[9], line 1\u001b[0m\n\u001b[0;32m----> 1\u001b[0m \u001b[43magent\u001b[49m\u001b[38;5;241;43m.\u001b[39;49m\u001b[43mproviders\u001b[49m\n",
      "\u001b[0;31mAttributeError\u001b[0m: 'Synth' object has no attribute 'providers'"
     ]
    }
   ],
   "source": [
    "agent.providers"
   ]
  },
  {
   "cell_type": "code",
   "execution_count": null,
   "id": "4046a2de-2d69-4239-85bc-e15e614d0162",
   "metadata": {},
   "outputs": [],
   "source": []
  }
 ],
 "metadata": {
  "kernelspec": {
   "display_name": "Python 3 (ipykernel)",
   "language": "python",
   "name": "python3"
  },
  "language_info": {
   "codemirror_mode": {
    "name": "ipython",
    "version": 3
   },
   "file_extension": ".py",
   "mimetype": "text/x-python",
   "name": "python",
   "nbconvert_exporter": "python",
   "pygments_lexer": "ipython3",
   "version": "3.11.2"
  }
 },
 "nbformat": 4,
 "nbformat_minor": 5
}
